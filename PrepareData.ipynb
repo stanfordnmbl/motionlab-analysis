{
 "cells": [
  {
   "cell_type": "code",
   "execution_count": 11,
   "metadata": {},
   "outputs": [
    {
     "name": "stdout",
     "output_type": "stream",
     "text": [
      "The autoreload extension is already loaded. To reload it, use:\n",
      "  %reload_ext autoreload\n"
     ]
    }
   ],
   "source": [
    "import pandas as pd\n",
    "import urllib.request\n",
    "import shutil\n",
    "import os\n",
    "import pathlib\n",
    "\n",
    "%load_ext autoreload\n",
    "%autoreload 2\n",
    "from utils import *"
   ]
  },
  {
   "cell_type": "code",
   "execution_count": 22,
   "metadata": {},
   "outputs": [],
   "source": [
    "def download_subject(slug):\n",
    "    filepath = \"/tmp/{}.tar.gz\".format(slug)\n",
    "    url = \"https://mc-motionlab-storage.s3.us-west-2.amazonaws.com/media/outputs/{}/output.tar.gz\".format(slug)\n",
    "    urllib.request.urlretrieve(url, filepath)\n",
    "    \n",
    "    os.makedirs(\"/tmp/{}\".format(slug), exist_ok=True)\n",
    "    os.system(\"tar -zxvf {} -C /tmp/{}\".format(filepath, slug))    \n",
    "    shutil.move(\"/tmp/{}/output/keypoints\".format(slug), \"videos/keypoints/{}\".format(slug))\n",
    "\n",
    "download_subject(\"cIZijMLk\")\n",
    "#processed_subjects = os.listdir(\"videos/keypoints\")"
   ]
  },
  {
   "cell_type": "code",
   "execution_count": 23,
   "metadata": {},
   "outputs": [],
   "source": [
    "# Convert to numpy arrays\n",
    "os.makedirs(\"videos/np\", exist_ok=True)\n",
    "\n",
    "for subjectid in [\"CqjNQOqS\"]:\n",
    "    res = json2np(\"videos/keypoints/{}\".format(subjectid),subjectid)\n",
    "    np.save(\"videos/np/{}.npy\".format(subjectid), res)"
   ]
  }
 ],
 "metadata": {
  "kernelspec": {
   "display_name": "Python 3",
   "language": "python",
   "name": "python3"
  },
  "language_info": {
   "codemirror_mode": {
    "name": "ipython",
    "version": 3
   },
   "file_extension": ".py",
   "mimetype": "text/x-python",
   "name": "python",
   "nbconvert_exporter": "python",
   "pygments_lexer": "ipython3",
   "version": "3.8.0"
  }
 },
 "nbformat": 4,
 "nbformat_minor": 4
}

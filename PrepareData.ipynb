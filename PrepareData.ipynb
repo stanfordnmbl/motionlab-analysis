{
 "cells": [
  {
   "cell_type": "code",
   "execution_count": 1,
   "metadata": {},
   "outputs": [],
   "source": [
    "import pandas as pd\n",
    "import urllib.request\n",
    "import shutil\n",
    "import os\n",
    "import pathlib\n",
    "\n",
    "%load_ext autoreload\n",
    "%autoreload 2\n",
    "from utils import *"
   ]
  },
  {
   "cell_type": "code",
   "execution_count": 2,
   "metadata": {},
   "outputs": [],
   "source": [
    "processed_subjects = os.listdir(\"videos/keypoints\")"
   ]
  },
  {
   "cell_type": "code",
   "execution_count": 3,
   "metadata": {},
   "outputs": [],
   "source": [
    "videos = pd.read_csv(\"videos.tsv\", sep='\\t',header=None)\n",
    "videos = videos.drop([0,1,2,5], axis=1)\n",
    "videos.columns =['ID', 'path', ] "
   ]
  },
  {
   "cell_type": "code",
   "execution_count": 4,
   "metadata": {},
   "outputs": [
    {
     "data": {
      "text/html": [
       "<div>\n",
       "<style scoped>\n",
       "    .dataframe tbody tr th:only-of-type {\n",
       "        vertical-align: middle;\n",
       "    }\n",
       "\n",
       "    .dataframe tbody tr th {\n",
       "        vertical-align: top;\n",
       "    }\n",
       "\n",
       "    .dataframe thead th {\n",
       "        text-align: right;\n",
       "    }\n",
       "</style>\n",
       "<table border=\"1\" class=\"dataframe\">\n",
       "  <thead>\n",
       "    <tr style=\"text-align: right;\">\n",
       "      <th></th>\n",
       "      <th>ID</th>\n",
       "      <th>path</th>\n",
       "    </tr>\n",
       "  </thead>\n",
       "  <tbody>\n",
       "  </tbody>\n",
       "</table>\n",
       "</div>"
      ],
      "text/plain": [
       "Empty DataFrame\n",
       "Columns: [ID, path]\n",
       "Index: []"
      ]
     },
     "execution_count": 4,
     "metadata": {},
     "output_type": "execute_result"
    }
   ],
   "source": [
    "videos = videos[~videos.ID.isin(processed_subjects)]\n",
    "videos"
   ]
  },
  {
   "cell_type": "code",
   "execution_count": 5,
   "metadata": {},
   "outputs": [],
   "source": [
    "# Download videos\n",
    "root_url = \"https://motionlab-storage.s3.amazonaws.com/media/\"\n",
    "\n",
    "for index, row in videos.iterrows():\n",
    "    filename, file_extension = os.path.splitext(row[1])\n",
    "    url = root_url + row[1]\n",
    "    path = \"videos/\" + row[0] + file_extension\n",
    "\n",
    "    # Download the file from `url` and save it locally under `file_name`:\n",
    "    with urllib.request.urlopen(url) as response, open(path, 'wb') as out_file:\n",
    "        shutil.copyfileobj(response, out_file)"
   ]
  },
  {
   "cell_type": "code",
   "execution_count": 6,
   "metadata": {},
   "outputs": [],
   "source": [
    "# Run openpose\n",
    "dir_path = pathlib.Path().absolute()\n",
    "for index, row in videos.iterrows():\n",
    "    filename, file_extension = os.path.splitext(row[1])\n",
    "    path = row[0] + file_extension\n",
    "    os.makedirs(\"videos/keypoints/\" + row[0], exist_ok=True)\n",
    "    cmd = \"docker run --gpus=1 -v {}/videos:/openpose/data stanfordnmbl/openpose-gpu\\\n",
    "    /openpose/build/examples/openpose/openpose.bin --video /openpose/data/{}\\\n",
    "    --display 0 --write_json /openpose/data/keypoints/{} --render_pose 0\".format(dir_path, path, row[0])\n",
    "    print(cmd)\n",
    "    os.system(cmd)"
   ]
  },
  {
   "cell_type": "code",
   "execution_count": 7,
   "metadata": {},
   "outputs": [],
   "source": [
    "# Convert to numpy arrays\n",
    "os.makedirs(\"videos/np\", exist_ok=True)\n",
    "\n",
    "for index, row in videos.iterrows():\n",
    "    subjectid = row[0]\n",
    "    res = json2np(\"videos/keypoints/{}\".format(subjectid),subjectid)\n",
    "    np.save(\"videos/np/{}.npy\".format(subjectid), res)"
   ]
  }
 ],
 "metadata": {
  "kernelspec": {
   "display_name": "Python 3",
   "language": "python",
   "name": "python3"
  },
  "language_info": {
   "codemirror_mode": {
    "name": "ipython",
    "version": 3
   },
   "file_extension": ".py",
   "mimetype": "text/x-python",
   "name": "python",
   "nbconvert_exporter": "python",
   "pygments_lexer": "ipython3",
   "version": "3.7.9"
  }
 },
 "nbformat": 4,
 "nbformat_minor": 4
}
